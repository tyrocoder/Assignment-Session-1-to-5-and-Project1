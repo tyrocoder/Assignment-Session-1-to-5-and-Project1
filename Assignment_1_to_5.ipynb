{
 "cells": [
  {
   "cell_type": "markdown",
   "metadata": {},
   "source": [
    "# 2.1. Problem Statement: PYTHON 1"
   ]
  },
  {
   "cell_type": "code",
   "execution_count": null,
   "metadata": {},
   "outputs": [],
   "source": [
    "\"\"\"\n",
    "1.Install Jupyter notebook and run the first program and share the screenshot of the output.\n",
    "Screenshot is shared in the repository\n",
    "\"\"\""
   ]
  },
  {
   "cell_type": "code",
   "execution_count": 1,
   "metadata": {},
   "outputs": [
    {
     "name": "stdout",
     "output_type": "stream",
     "text": [
      "[2002, 2009, 2016, 2023, 2037, 2044, 2051, 2058, 2072, 2079, 2086, 2093, 2107, 2114, 2121, 2128, 2142, 2149, 2156, 2163, 2177, 2184, 2191, 2198, 2212, 2219, 2226, 2233, 2247, 2254, 2261, 2268, 2282, 2289, 2296, 2303, 2317, 2324, 2331, 2338, 2352, 2359, 2366, 2373, 2387, 2394, 2401, 2408, 2422, 2429, 2436, 2443, 2457, 2464, 2471, 2478, 2492, 2499, 2506, 2513, 2527, 2534, 2541, 2548, 2562, 2569, 2576, 2583, 2597, 2604, 2611, 2618, 2632, 2639, 2646, 2653, 2667, 2674, 2681, 2688, 2702, 2709, 2716, 2723, 2737, 2744, 2751, 2758, 2772, 2779, 2786, 2793, 2807, 2814, 2821, 2828, 2842, 2849, 2856, 2863, 2877, 2884, 2891, 2898, 2912, 2919, 2926, 2933, 2947, 2954, 2961, 2968, 2982, 2989, 2996, 3003, 3017, 3024, 3031, 3038, 3052, 3059, 3066, 3073, 3087, 3094, 3101, 3108, 3122, 3129, 3136, 3143, 3157, 3164, 3171, 3178, 3192, 3199]\n"
     ]
    }
   ],
   "source": [
    "\"\"\" \n",
    "2. Write a program which will find all such numbers which are divisible by 7 but are not a multiple of 5, \n",
    "between 2000 and 3200 (both included).\n",
    "The numbers obtained should be printed in a comma-separated sequence on a single line.\n",
    "\"\"\"\n",
    "\n",
    "x = range(2000,3201)\n",
    "y =[]\n",
    "for i in x:\n",
    "    if (((i%7)==0) and ((i%5)!=0)):\n",
    "        y.append(i)\n",
    "        \n",
    "print(y)"
   ]
  },
  {
   "cell_type": "code",
   "execution_count": 7,
   "metadata": {},
   "outputs": [
    {
     "name": "stdout",
     "output_type": "stream",
     "text": [
      "Enter first name and last namemanasa bandahalli\n",
      "bandahalli manasa\n"
     ]
    }
   ],
   "source": [
    "\"\"\" \n",
    "3. Write a Python program to accept the user's first and last name and then getting them\n",
    "printed in the the reverse order with a space between first name and last name.\n",
    "\"\"\"\n",
    "x,y = input(\"Enter first name and last name\").split()\n",
    "print(y,x)\n"
   ]
  },
  {
   "cell_type": "code",
   "execution_count": 8,
   "metadata": {},
   "outputs": [
    {
     "data": {
      "text/plain": [
       "904.3199999999999"
      ]
     },
     "execution_count": 8,
     "metadata": {},
     "output_type": "execute_result"
    }
   ],
   "source": [
    "\"\"\"\n",
    "4. Write a Python program to find the volume of a sphere with diameter 12 cm.\n",
    "Formula: V=4/3 * π * r\n",
    "\"\"\"\n",
    "\n",
    "def vol(d):\n",
    "    pi = 3.14\n",
    "    r = (d/2)\n",
    "    v = ((4/3) * pi * (r**3))\n",
    "    return v\n",
    "\n",
    "vol(12)\n",
    "    "
   ]
  },
  {
   "cell_type": "markdown",
   "metadata": {},
   "source": [
    "# 2.1. Problem Statement: PYTHON 2"
   ]
  },
  {
   "cell_type": "code",
   "execution_count": 16,
   "metadata": {},
   "outputs": [
    {
     "name": "stdout",
     "output_type": "stream",
     "text": [
      "enter a sequence of comma-separated numbers from console1,34,89,9,90\n"
     ]
    },
    {
     "data": {
      "text/plain": [
       "['1', '34', '89', '9', '90']"
      ]
     },
     "execution_count": 16,
     "metadata": {},
     "output_type": "execute_result"
    }
   ],
   "source": [
    "\"\"\"\n",
    "1. Write a program which accepts a sequence of comma-separated numbers from console and\n",
    "generate a list.\n",
    "\"\"\"\n",
    "\n",
    "y = input(\"enter a sequence of comma-separated numbers from console\").split(',')\n",
    "list(y)"
   ]
  },
  {
   "cell_type": "code",
   "execution_count": 29,
   "metadata": {},
   "outputs": [
    {
     "name": "stdout",
     "output_type": "stream",
     "text": [
      "\n",
      "* \n",
      "* * \n",
      "* * * \n",
      "* * * * \n",
      "* * * * * \n",
      "* * * * \n",
      "* * * \n",
      "* * \n",
      "* \n"
     ]
    }
   ],
   "source": [
    "\"\"\"\n",
    "2. Create the below pattern using nested for loop in Python.\n",
    "*\n",
    "* *\n",
    "* * *\n",
    "* * * *\n",
    "* * * * *\n",
    "* * * *\n",
    "* * *\n",
    "* *\n",
    "*\n",
    "\"\"\"\n",
    "counter = 0\n",
    "for iteration in range(0,5):\n",
    "    counter+=1\n",
    "    for pattern in range(0,counter-1):\n",
    "        print('*',end= ' ')\n",
    "    print()\n",
    "for iteration in range(0,5):\n",
    "    counter-=1\n",
    "    for pattern in range(0,counter+1):\n",
    "        print('*',end= ' ')\n",
    "    print()"
   ]
  },
  {
   "cell_type": "code",
   "execution_count": 19,
   "metadata": {},
   "outputs": [
    {
     "name": "stdout",
     "output_type": "stream",
     "text": [
      "enter a wordAcadGild\n",
      "dliGdacA\n"
     ]
    }
   ],
   "source": [
    "\"\"\"\n",
    "3. Write a Python program to reverse a word after accepting the input from the user.\n",
    "Sample Output:\n",
    "\n",
    "Input word: AcadGild\n",
    "Output: dilGdacA\n",
    "\"\"\"\n",
    "\n",
    "a = input(\"enter a word\")\n",
    "print(a[::-1])\n"
   ]
  },
  {
   "cell_type": "code",
   "execution_count": 24,
   "metadata": {},
   "outputs": [
    {
     "name": "stdout",
     "output_type": "stream",
     "text": [
      "WE, THE PEOPLE OF INDIA,\n",
      "\t having solemnly resolved to constitute India into a SOVEREIGN,!\n",
      "\t\tSOCIALIST, SECULAR, DEMOCRATIC REPUBLIC \n",
      "\t\tand to secure to all its citizens:\n"
     ]
    }
   ],
   "source": [
    "\"\"\"4. Write a Python Program to print the given string in the format specified in the\n",
    "sample output\n",
    "\n",
    "WE, THE PEOPLE OF INDIA, having solemnly resolved to constitute India into a SOVEREIGN,\n",
    "SOCIALIST, SECULAR, DEMOCRATIC REPUBLIC and to secure to all its citizens\n",
    "\n",
    "Sample Output:\n",
    "WE, THE PEOPLE OF INDIA,\n",
    "having solemnly resolved to constitute India into a SOVEREIGN, !\n",
    "SOCIALIST, SECULAR, DEMOCRATIC\n",
    "REPUBLIC and to secure to all its citizens\"\"\"\n",
    "\n",
    "a = \"WE, THE PEOPLE OF INDIA,{} having solemnly resolved to constitute India into a SOVEREIGN,{}SOCIALIST, SECULAR, DEMOCRATIC REPUBLIC {}and to secure to all its citizens{}\"\n",
    "\n",
    "print(a.format('\\n\\t','!\\n\\t\\t','\\n\\t\\t',':'))"
   ]
  },
  {
   "cell_type": "markdown",
   "metadata": {},
   "source": [
    "# 2.3. Problem Statement: PYTHON 3"
   ]
  },
  {
   "cell_type": "code",
   "execution_count": 30,
   "metadata": {},
   "outputs": [
    {
     "data": {
      "text/plain": [
       "15"
      ]
     },
     "execution_count": 30,
     "metadata": {},
     "output_type": "execute_result"
    }
   ],
   "source": [
    "\"\"\"1.1. Write a Python Program to implement your own myreduce() function which works exactlylike \n",
    "Python's built-in function reduce()\"\"\"\n",
    "\n",
    "\"\"\"reduce() in order to find the smallest element from a list of numbers.\"\"\"\n",
    "\n",
    "def myreduce(listl,first,second):\n",
    "    if(first<=second):\n",
    "        minimum = first\n",
    "    else:\n",
    "        minimum = second\n",
    "    for i in list[2:]:\n",
    "        if(i<=minimum):\n",
    "            minimum = i\n",
    "    return minimum       \n",
    "\n",
    "listw = [32,15,16,19,189,43]\n",
    "\n",
    "myreduce(listw,listw[0],listw[1])"
   ]
  },
  {
   "cell_type": "code",
   "execution_count": 31,
   "metadata": {},
   "outputs": [
    {
     "data": {
      "text/plain": [
       "[1, 3, 5, 7]"
      ]
     },
     "execution_count": 31,
     "metadata": {},
     "output_type": "execute_result"
    }
   ],
   "source": [
    "\"\"\"1.2 Write a Python program to implement your own myfilter() function which works exactly\n",
    "like Python's built-in function filter()\"\"\"\n",
    "\n",
    "\"\"\"filter() in order to find the prime numbers from a list of numbers\"\"\"\n",
    "\n",
    "def myfilter(list):\n",
    "    prime_list=[1]\n",
    "    for i in list:\n",
    "        prime = 0\n",
    "        for j in range(2,i):\n",
    "            if(i%j == 0):\n",
    "                prime = 0\n",
    "                break\n",
    "            else:\n",
    "                prime = 1\n",
    "                continue\n",
    "        if(prime):\n",
    "            prime_list.append(i)\n",
    "    return prime_list       \n",
    "\n",
    "list = range(1,10)\n",
    "\n",
    "myfilter(list)"
   ]
  },
  {
   "cell_type": "code",
   "execution_count": 68,
   "metadata": {},
   "outputs": [
    {
     "name": "stdout",
     "output_type": "stream",
     "text": [
      "['A', 'C', 'A', 'D', 'G', 'I', 'L', 'D']\n",
      "['x', 'xx', 'xxx', 'xxxx', 'y', 'yy', 'yyy', 'yyyy', 'z', 'zz', 'zzz', 'zzzz']\n",
      "['x', 'y', 'z', 'xx', 'yy', 'zz', 'xxx', 'yyy', 'zzz', 'xxxx', 'yyyy', 'zzzz']\n",
      "[[2], [3], [4], [3], [4], [5], [4], [5], [6]]\n",
      "[2, 3, 4, 5, 3, 4, 5, 6, 4, 5, 6, 7, 5, 6, 7, 8]\n",
      "[(1, 1), (2, 1), (3, 1), (1, 2), (2, 2), (3, 2), (1, 3), (2, 3), (3, 3)]\n"
     ]
    }
   ],
   "source": [
    "\"\"\"2 Implement List comprehensions to produce the following lists.\n",
    "Write List comprehensions to produce the following Lists.\n",
    "['A', 'C', 'A', 'D', 'G', 'I', ’L’, ‘ D’]\n",
    "['x', 'xx', 'xxx', 'xxxx', 'y', 'yy', 'yyy', 'yyyy', 'z', 'zz', 'zzz', 'zzzz']\n",
    "['x', 'y', 'z', 'xx', 'yy', 'zz', 'xxx', 'yyy', 'zzz', 'xxxx', 'yyyy', 'zzzz']\n",
    "[[2], [3], [4], [3], [4], [5], [4], [5], [6]]\n",
    "[[2, 3, 4, 5], [3, 4, 5, 6], [4,5, 6, 7], [5, 6, 7, 8]]\n",
    "[(1, 1), (2, 1), (3, 1), (1, 2), (2, 2), (3, 2), (1, 3), (2, 3), (3, 3)]\"\"\"\n",
    "\n",
    "\n",
    "a = 'ACADGILD'\n",
    "print([i for i in a])\n",
    "\n",
    "l = ['x','y','z']\n",
    "t = range(1,5)\n",
    "print([i*j for i in l for j in t]) \n",
    "\n",
    "print([i*j for i in t for j in l]) \n",
    "\n",
    "b = [2,3,4]\n",
    "print([[i+j] for i in range(0,3) for j in b])\n",
    "\n",
    "c = [2,3,4,5]\n",
    "print([i+j for j in range(0,4) for i in c])\n",
    "print([(j,i) for i in range(1,4) for j in range(1,4)])\n"
   ]
  },
  {
   "cell_type": "code",
   "execution_count": 25,
   "metadata": {},
   "outputs": [
    {
     "data": {
      "text/plain": [
       "'banananana'"
      ]
     },
     "execution_count": 25,
     "metadata": {},
     "output_type": "execute_result"
    }
   ],
   "source": [
    "\"\"\"3. Implement a function longestWord() that takes a list of words and returns the longest one.\"\"\"\n",
    "\n",
    "def longestWord(lw):\n",
    "    x =[]\n",
    "    y = max(len(i) for i in lw)\n",
    "    for i in lw:\n",
    "        if len(i) == y:\n",
    "            return i\n",
    "\n",
    "l = ['man','language','banananana']\n",
    "longestWord(l)          "
   ]
  },
  {
   "cell_type": "markdown",
   "metadata": {},
   "source": [
    "# 2.4. Problem Statement: PYTHON 4"
   ]
  },
  {
   "cell_type": "code",
   "execution_count": 69,
   "metadata": {},
   "outputs": [
    {
     "name": "stdout",
     "output_type": "stream",
     "text": [
      "Enter side 1 : 3\n",
      "Enter side 2 : 4\n",
      "Enter side 3 : 5\n",
      "Side 1 is 3.0\n",
      "Side 2 is 4.0\n",
      "Side 3 is 5.0\n",
      "The area of the triangle is 6.00\n"
     ]
    }
   ],
   "source": [
    "\"\"\"1.1 Write a Python Program(with class concepts) to find the area of the triangle using the below\n",
    "formula.\n",
    "area = (s*(s-a)*(s-b)*(s-c)) ** 0.5\n",
    "Function to take the length of the sides of triangle from user should be defined in the parent\n",
    "class and function to calculate the area should be defined in subclass.\"\"\"\n",
    "\n",
    "#parent class\n",
    "class Polygon:\n",
    "    def __init__(self, no_of_sides):\n",
    "        self.n = no_of_sides\n",
    "        self.sides = [0 for i in range(no_of_sides)]\n",
    "    def inputSides(self):\n",
    "        self.sides = [float(input(\"Enter side \"+str(i+1)+\" : \")) for i in range(self.n)]\n",
    "    def dispSides(self):\n",
    "        for i in range(self.n):\n",
    "            print(\"Side\",i+1,\"is\",self.sides[i])\n",
    "            \n",
    "#subclass\n",
    "class Triangle(Polygon):\n",
    "    def __init__(self):\n",
    "        Polygon.__init__(self,3)\n",
    "    def findArea(self):\n",
    "        a, b, c = self.sides\n",
    "        # calculate the semi-perimeter\n",
    "        s = (a + b + c) / 2\n",
    "        area = (s*(s-a)*(s-b)*(s-c)) ** 0.5\n",
    "        print('The area of the triangle is %0.2f' %area)\n",
    "        \n",
    "t = Triangle()\n",
    "t.inputSides()\n",
    "t.dispSides()\n",
    "t.findArea()\n",
    "    \n",
    "            "
   ]
  },
  {
   "cell_type": "code",
   "execution_count": 12,
   "metadata": {},
   "outputs": [
    {
     "data": {
      "text/plain": [
       "['ginger', 'bangalore']"
      ]
     },
     "execution_count": 12,
     "metadata": {},
     "output_type": "execute_result"
    }
   ],
   "source": [
    "\"\"\"1.2 Write a function filter_long_words() that takes a list of words and an integer n and returns\n",
    "the list of words that are longer than n.\"\"\"\n",
    "\n",
    "def filter_long_words(l,x):\n",
    "    r = []\n",
    "    for i in l:\n",
    "        if (int(len(i)) > x):\n",
    "            r.append(i)\n",
    "    return r\n",
    "\n",
    "listw = ['man','bang','ginger','bangalore']\n",
    "\n",
    "filter_long_words(listw,4)\n",
    "            "
   ]
  },
  {
   "cell_type": "code",
   "execution_count": 8,
   "metadata": {},
   "outputs": [
    {
     "data": {
      "text/plain": [
       "[3, 1, 2, 4]"
      ]
     },
     "execution_count": 8,
     "metadata": {},
     "output_type": "execute_result"
    }
   ],
   "source": [
    "\"\"\"2.1 Write a Python program using function concept that maps list of words into a list of integers\n",
    "representing the lengths of the corresponding words.\n",
    "Hint: If a list [ ab,cde,erty] is passed on to the python function output should come as [2,3,4]\n",
    "Here 2,3 and 4 are the lengths of the words in the list.\"\"\"\n",
    "\n",
    "\n",
    "def fn(y):\n",
    "    y1 = iter(y)\n",
    "    x = []\n",
    "    for i in range(0,len(y)):\n",
    "        x.append(len((next(y1))))\n",
    "    return x\n",
    "\n",
    "b = ['ppp','q','oo','poqq']\n",
    "fn(b)"
   ]
  },
  {
   "cell_type": "code",
   "execution_count": 9,
   "metadata": {},
   "outputs": [
    {
     "data": {
      "text/plain": [
       "True"
      ]
     },
     "execution_count": 9,
     "metadata": {},
     "output_type": "execute_result"
    }
   ],
   "source": [
    "\"\"\"2.2 Write a Python function which takes a character (i.e. a string of length 1) and returns True if\n",
    "it is a vowel, False otherwise.\"\"\"\n",
    "\n",
    "def fun(variable):\n",
    "    vowels = ['a','e','i','o','u']\n",
    "    if variable in vowels:\n",
    "        return True\n",
    "    else:\n",
    "        return False\n",
    "    \n",
    "fun('a')\n"
   ]
  },
  {
   "cell_type": "markdown",
   "metadata": {},
   "source": [
    "# 2.5. Problem Statement: PYTHON 5"
   ]
  },
  {
   "cell_type": "code",
   "execution_count": 5,
   "metadata": {},
   "outputs": [
    {
     "name": "stdout",
     "output_type": "stream",
     "text": [
      "Sorry!Divide by zero is not possible\n"
     ]
    }
   ],
   "source": [
    "\"\"\"\n",
    "1. Write a function to compute 5/0 and use try/except to catch the exceptions.\n",
    "\"\"\"\n",
    "\n",
    "def div(a,b):\n",
    "    try:\n",
    "        result = a/b\n",
    "        print(\"Yes!Division is possible and result is\",result)\n",
    "    except:\n",
    "        print(\"Sorry!Divide by zero is not possible\")\n",
    "    \n",
    "div(5,0)\n",
    "    "
   ]
  },
  {
   "cell_type": "code",
   "execution_count": 4,
   "metadata": {},
   "outputs": [
    {
     "name": "stdout",
     "output_type": "stream",
     "text": [
      "Americans  play Baseball\n",
      "Americans  play Cricket\n",
      "Americans  watch Baseball\n",
      "Americans  watch Cricket\n",
      "Indians play Baseball\n",
      "Indians play Cricket\n",
      "Indians watch Baseball\n",
      "Indians watch Cricket\n"
     ]
    }
   ],
   "source": [
    "\"\"\"\n",
    "2. Implement a Python program to generate all sentences where subject is in [\"Americans\",\n",
    "\"Indians\"] and verb is in [\"Play\", \"watch\"] and the object is in [\"Baseball\",\"cricket\"].\n",
    "\n",
    "Hint: Subject,Verb and Object should be declared in the program as shown below.\n",
    "subjects=[\"Americans \",\"Indians\"]\n",
    "verbs=[\"play\",\"watch\"]\n",
    "objects=[\"Baseball\",\"Cricket\"]\n",
    "\n",
    "Output should come as below:\n",
    "\n",
    "Americans play Baseball.\n",
    "Americans play Cricket.\n",
    "Americans watch Baseball.\n",
    "Americans watch Cricket.\n",
    "Indians play Baseball.\n",
    "Indians play Cricket.\n",
    "Indians watch Baseball.\n",
    "Indians watch Cricket.\n",
    "\n",
    "NOTE:ThesolutionsharedthroughGithubshouldcontainthesource codeusedandthe\n",
    "screenshotoftheoutput.\n",
    "\n",
    "\"\"\"\n",
    "subjects=[\"Americans \",\"Indians\"]\n",
    "verbs=[\"play\",\"watch\"]\n",
    "objects=[\"Baseball\",\"Cricket\"]\n",
    "\n",
    "for subj in subjects:\n",
    "    for ver in verbs:\n",
    "        for obj in objects:\n",
    "            print(\"{}{}{}\".format(subj+' ',ver+' ',obj))\n",
    "\n",
    "\n",
    "    \n",
    "    "
   ]
  },
  {
   "cell_type": "code",
   "execution_count": null,
   "metadata": {},
   "outputs": [],
   "source": [
    "\"\"\"\n",
    "3.Output\n",
    "This assignment consists of 1000 marks and .ipynb file needs to be submitted in Github. You\n",
    "can follow Github submission guide provided to do the same.\n",
    "\"\"\""
   ]
  }
 ],
 "metadata": {
  "kernelspec": {
   "display_name": "Python 3",
   "language": "python",
   "name": "python3"
  },
  "language_info": {
   "codemirror_mode": {
    "name": "ipython",
    "version": 3
   },
   "file_extension": ".py",
   "mimetype": "text/x-python",
   "name": "python",
   "nbconvert_exporter": "python",
   "pygments_lexer": "ipython3",
   "version": "3.7.3"
  }
 },
 "nbformat": 4,
 "nbformat_minor": 2
}
